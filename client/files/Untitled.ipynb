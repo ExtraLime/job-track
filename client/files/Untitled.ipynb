{
 "cells": [
  {
   "cell_type": "code",
   "execution_count": 12,
   "metadata": {},
   "outputs": [],
   "source": [
    "with open('initial.txt','r') as f:\n",
    "    data = f.read()\n",
    "    \n",
    "lines = data.split(';')"
   ]
  },
  {
   "cell_type": "code",
   "execution_count": null,
   "metadata": {},
   "outputs": [],
   "source": []
  },
  {
   "cell_type": "code",
   "execution_count": 26,
   "metadata": {},
   "outputs": [
    {
     "data": {
      "text/plain": [
       "['']"
      ]
     },
     "execution_count": 26,
     "metadata": {},
     "output_type": "execute_result"
    }
   ],
   "source": [
    "all_lines = []\n",
    "new_lines1 = []\n",
    "new_lines2 = []\n",
    "for line in lines:\n",
    "    line = line.replace('ALTER TABLE','').replace('ADD CONSTRAINT','').replace('REFERENCES','')\n",
    "    line = line.replace('FOREIGN KEY','').replace('REFERENCES','').lstrip().split('  ')\n",
    "    all_lines.append(line)\n",
    "    new_lines1.append(line[1:])\n",
    "    new_lines2.append(line[:-1])\n",
    "new_lines1.pop()\n",
    "new_lines2.pop()\n",
    "all_lines.pop()"
   ]
  },
  {
   "cell_type": "code",
   "execution_count": 25,
   "metadata": {},
   "outputs": [
    {
     "name": "stdout",
     "output_type": "stream",
     "text": [
      "['`import_allergy`', '`import_allergy_fk0`', '(`identifier`)', '`normal_allergy`(`identifier`)']\n",
      "['`normal_allergy`', '`normal_allergy_fk0`', '(`identifier`)', '`export_allergy`(`identifier`)']\n",
      "['`normal_allergy`', '`normal_allergy_fk1`', '(`clinicalStatus`)', '`export_allergy`(`status`)']\n",
      "['`normal_allergy`', '`normal_allergy_fk2`', '(`type`)', '`export_allergy`(`type`)']\n",
      "['`normal_allergy`', '`normal_allergy_fk3`', '(`criticality`)', '`export_allergy`(`criticality`)']\n",
      "['`normal_allergy`', '`normal_allergy_fk4`', '(`patient`)', '`export_allergy`(`patient`)']\n",
      "['`normal_allergy`', '`normal_allergy_fk5`', '(`recorder`)', '`export_allergy`(`recorder`)']\n",
      "['']\n"
     ]
    }
   ],
   "source": [
    "for line in all_lines:\n",
    "    print(line)"
   ]
  },
  {
   "cell_type": "code",
   "execution_count": 21,
   "metadata": {
    "scrolled": true
   },
   "outputs": [
    {
     "name": "stdout",
     "output_type": "stream",
     "text": [
      "['`import_allergy_fk0`', '(`identifier`)', '`normal_allergy`(`identifier`)']\n",
      "['`normal_allergy_fk0`', '(`identifier`)', '`export_allergy`(`identifier`)']\n",
      "['`normal_allergy_fk1`', '(`clinicalStatus`)', '`export_allergy`(`status`)']\n",
      "['`normal_allergy_fk2`', '(`type`)', '`export_allergy`(`type`)']\n",
      "['`normal_allergy_fk3`', '(`criticality`)', '`export_allergy`(`criticality`)']\n",
      "['`normal_allergy_fk4`', '(`patient`)', '`export_allergy`(`patient`)']\n",
      "['`normal_allergy_fk5`', '(`recorder`)', '`export_allergy`(`recorder`)']\n"
     ]
    }
   ],
   "source": [
    "for line in new_lines1:\n",
    "    print(line)"
   ]
  },
  {
   "cell_type": "code",
   "execution_count": 22,
   "metadata": {},
   "outputs": [
    {
     "name": "stdout",
     "output_type": "stream",
     "text": [
      "['`import_allergy`', '`import_allergy_fk0`', '(`identifier`)']\n",
      "['`normal_allergy`', '`normal_allergy_fk0`', '(`identifier`)']\n",
      "['`normal_allergy`', '`normal_allergy_fk1`', '(`clinicalStatus`)']\n",
      "['`normal_allergy`', '`normal_allergy_fk2`', '(`type`)']\n",
      "['`normal_allergy`', '`normal_allergy_fk3`', '(`criticality`)']\n",
      "['`normal_allergy`', '`normal_allergy_fk4`', '(`patient`)']\n",
      "['`normal_allergy`', '`normal_allergy_fk5`', '(`recorder`)']\n"
     ]
    }
   ],
   "source": [
    "for line in new_lines2:\n",
    "    print(line)"
   ]
  },
  {
   "cell_type": "code",
   "execution_count": null,
   "metadata": {},
   "outputs": [],
   "source": [
    "def get_map_elements(file):\n",
    "    if file.endswith('.txt'):\n",
    "        with open(file,'r') as f:\n",
    "            data = f.read()    \n",
    "        lines = data.split(';')\n",
    "    else:\n",
    "        return \"Please use a ';' delimited .txt file\"\n",
    "    "
   ]
  }
 ],
 "metadata": {
  "kernelspec": {
   "display_name": "Python 3",
   "language": "python",
   "name": "python3"
  },
  "language_info": {
   "codemirror_mode": {
    "name": "ipython",
    "version": 3
   },
   "file_extension": ".py",
   "mimetype": "text/x-python",
   "name": "python",
   "nbconvert_exporter": "python",
   "pygments_lexer": "ipython3",
   "version": "3.6.9"
  }
 },
 "nbformat": 4,
 "nbformat_minor": 2
}
